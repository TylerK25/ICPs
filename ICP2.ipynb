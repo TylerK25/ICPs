{
  "nbformat": 4,
  "nbformat_minor": 0,
  "metadata": {
    "colab": {
      "provenance": []
    },
    "kernelspec": {
      "name": "python3",
      "display_name": "Python 3"
    },
    "language_info": {
      "name": "python"
    }
  },
  "cells": [
    {
      "cell_type": "markdown",
      "source": [
        "1.)\n",
        "*  Counter.count refers to the count attribute in class count. Self.\n",
        "count refers to the particular instance of the class count that is referred to.\n",
        "*  a.get_counts returns Instance count: 2, Class count: 3 and b.get_counts returns Instance count: 1, Class count: 3\n",
        "* The increment method affects the Counter class by increasing the default value for the attribute counter in class. Whenever that attribute is changed in the class, it will continue to store as that value and whenever a new class is made or the attribute in the class is called it will be a new value equal to the amount of times increment has been run. It affects the instance by keeping track of how many times increment has been called per instance of the class Counter.\n"
      ],
      "metadata": {
        "id": "WuRnzRVrryDE"
      }
    },
    {
      "cell_type": "code",
      "source": [
        "def sum_all(args):\n",
        "  return sum(args)\n",
        "\n",
        "print(\"Sum of 1, 2, 3 is: \", sum_all((1, 2, 3)))\n",
        "print(\"Sum of 4, 5, 6, 7 is: \", sum_all((4, 5, 6, 7)))\n",
        "\n",
        "#iterables need to be in parentheses"
      ],
      "metadata": {
        "colab": {
          "base_uri": "https://localhost:8080/"
        },
        "id": "3oMqwpPYuysl",
        "outputId": "fb5c33bc-1c36-420a-df5c-2e882ec8d6a4"
      },
      "execution_count": 2,
      "outputs": [
        {
          "output_type": "stream",
          "name": "stdout",
          "text": [
            "Sum of 1, 2, 3 is:  6\n",
            "Sum of 4, 5, 6, 7 is:  22\n"
          ]
        }
      ]
    },
    {
      "cell_type": "code",
      "source": [
        "students = ['Mary','Zelda','Jimmy','Jack','Bartholomew','Gertrude']\n",
        "\n",
        "def first_word(students):\n",
        "  students.sort()\n",
        "  return students[0]\n",
        "\n",
        "first_word(students)"
      ],
      "metadata": {
        "colab": {
          "base_uri": "https://localhost:8080/",
          "height": 35
        },
        "id": "tcJQzo1ywIUl",
        "outputId": "850b9d0d-628f-4320-c82f-7494817afd03"
      },
      "execution_count": 4,
      "outputs": [
        {
          "output_type": "execute_result",
          "data": {
            "text/plain": [
              "'Bartholomew'"
            ],
            "application/vnd.google.colaboratory.intrinsic+json": {
              "type": "string"
            }
          },
          "metadata": {},
          "execution_count": 4
        }
      ]
    },
    {
      "cell_type": "code",
      "source": [
        "class Employee:\n",
        "  Employee_counter = 0\n",
        "\n",
        "  def __init__(self, name, family, salary, department):\n",
        "    self.name = name\n",
        "    self.family = family\n",
        "    self.salary = salary\n",
        "    self.department = department\n",
        "    Employee.Employee_counter += 1\n",
        "\n",
        "\n",
        "class FulltimeEmployees(Employee):\n",
        "  pass\n",
        "\n",
        "e1 = FulltimeEmployees('Ashley', 3, 25000, 'Human Development')\n",
        "\n",
        "e2 = Employee('Tyler', 6, 50000, 'Finance')\n",
        "\n",
        "def averageSalary(employees):\n",
        "  totalSalary = 0\n",
        "  for i in range(2):\n",
        "    totalSalary += employees[i].salary\n",
        "\n",
        "  return totalSalary/Employee.Employee_counter\n",
        "\n",
        "employees = [e1, e2]\n",
        "averageSalary(employees)\n"
      ],
      "metadata": {
        "colab": {
          "base_uri": "https://localhost:8080/"
        },
        "id": "4zZtGoEBw0-K",
        "outputId": "26df768d-f558-4ecf-e716-77e6eacf41f6"
      },
      "execution_count": 25,
      "outputs": [
        {
          "output_type": "execute_result",
          "data": {
            "text/plain": [
              "37500.0"
            ]
          },
          "metadata": {},
          "execution_count": 25
        }
      ]
    }
  ]
}