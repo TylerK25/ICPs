{
  "nbformat": 4,
  "nbformat_minor": 0,
  "metadata": {
    "colab": {
      "provenance": [],
      "authorship_tag": "ABX9TyMWSd+GsQJq3D8AmjvGuv0A",
      "include_colab_link": true
    },
    "kernelspec": {
      "name": "python3",
      "display_name": "Python 3"
    },
    "language_info": {
      "name": "python"
    }
  },
  "cells": [
    {
      "cell_type": "markdown",
      "metadata": {
        "id": "view-in-github",
        "colab_type": "text"
      },
      "source": [
        "<a href=\"https://colab.research.google.com/github/TylerK25/ICPs/blob/main/ICP1.ipynb\" target=\"_parent\"><img src=\"https://colab.research.google.com/assets/colab-badge.svg\" alt=\"Open In Colab\"/></a>"
      ]
    },
    {
      "cell_type": "code",
      "execution_count": 17,
      "metadata": {
        "id": "fcs7zTsYoFsU",
        "colab": {
          "base_uri": "https://localhost:8080/"
        },
        "outputId": "c6b93f7d-7a9a-43d7-8df0-b0980c256ba4"
      },
      "outputs": [
        {
          "output_type": "stream",
          "name": "stdout",
          "text": [
            "htyP\n"
          ]
        }
      ],
      "source": [
        "string1 = 'Python'\n",
        "list1 = []\n",
        "list1.append(string1[0])\n",
        "list1.append(string1[1])\n",
        "list1.append(string1[2])\n",
        "list1.append(string1[3])\n",
        "list1.reverse()\n",
        "list1 = ''.join(list1)\n",
        "print(list1)\n",
        "\n",
        "\n"
      ]
    },
    {
      "cell_type": "code",
      "source": [
        "sentence = input(\"Give a sentence: \\n\")\n",
        "sentence.replace('python', 'pythons')"
      ],
      "metadata": {
        "colab": {
          "base_uri": "https://localhost:8080/",
          "height": 71
        },
        "id": "V-9_y9MeqjbT",
        "outputId": "c7ef8a5b-de03-4975-c3d5-d2a24b7ef92a"
      },
      "execution_count": 20,
      "outputs": [
        {
          "name": "stdout",
          "output_type": "stream",
          "text": [
            "Give a sentence: \n",
            "I love playing with python\n"
          ]
        },
        {
          "output_type": "execute_result",
          "data": {
            "text/plain": [
              "'I love playing with pythons'"
            ],
            "application/vnd.google.colaboratory.intrinsic+json": {
              "type": "string"
            }
          },
          "metadata": {},
          "execution_count": 20
        }
      ]
    },
    {
      "cell_type": "code",
      "source": [
        "score = int(input(\"What is your score: \\n\"))\n",
        "if 100 >= score >= 90:\n",
        "  print('A')\n",
        "elif 90 > score >= 80:\n",
        "  print('B')\n",
        "elif 80 > score >= 70:\n",
        "  print('C')\n",
        "elif 70 > score >= 60:\n",
        "  print('D')\n",
        "elif 60 > score >= 0:\n",
        "  print('F')\n",
        "else:\n",
        "  print(\"Invalid score\")"
      ],
      "metadata": {
        "colab": {
          "base_uri": "https://localhost:8080/"
        },
        "id": "UT56VKQSwboJ",
        "outputId": "9712cb6a-d4db-4f7e-b4bf-aa6946c5d95b"
      },
      "execution_count": 25,
      "outputs": [
        {
          "output_type": "stream",
          "name": "stdout",
          "text": [
            "What is your score: \n",
            "80\n",
            "B\n"
          ]
        }
      ]
    },
    {
      "cell_type": "code",
      "source": [
        "import ast\n",
        "\n",
        "list1 = []\n",
        "list2 = []\n",
        "numElements = int(input(\"How many elements are in the list? \\n\"))\n",
        "\n",
        "for i in range(numElements):\n",
        "  try:\n",
        "    element = ast.literal_eval(input())\n",
        "    list1.append(element)\n",
        "  except ValueError:\n",
        "    list1.append(str(element))\n",
        "\n",
        "for i in range(0, len(list1)):\n",
        "  typeEl = type(list1[i])\n",
        "  list2.append(typeEl)\n",
        "\n",
        "print(list1)\n",
        "print(list2)"
      ],
      "metadata": {
        "colab": {
          "base_uri": "https://localhost:8080/"
        },
        "id": "LnnctMaux6--",
        "outputId": "1f304f21-e7e3-41a1-f5fa-c9d36436afb9"
      },
      "execution_count": 12,
      "outputs": [
        {
          "output_type": "stream",
          "name": "stdout",
          "text": [
            "How many elements are in the list? \n",
            "3\n",
            "23\n",
            "Python\n",
            "23.9\n",
            "[23, '23', 23.9]\n",
            "[<class 'int'>, <class 'str'>, <class 'float'>]\n"
          ]
        }
      ]
    },
    {
      "cell_type": "code",
      "source": [
        "IT_companies = {'Facebook','Google','Microsoft','Apple','IBM','Oracle','Amazon'}\n",
        "A = {19, 22, 24, 20, 25, 26}\n",
        "B = {19, 22, 20, 25, 26, 24, 28, 27}\n",
        "age = [22, 19, 24, 25, 26, 24, 25, 24]\n",
        "\n",
        "print(len(IT_companies))\n",
        "IT_companies.add('Twitter')\n",
        "print(IT_companies)\n",
        "IT_companies.update(['X', 'Nvidia', 'Taiwan Semi'])\n",
        "print(IT_companies)\n",
        "IT_companies.remove('Twitter')\n",
        "print(IT_companies)\n",
        "print(\"The difference between remove and discard is that discard can handle not having the \\nspecified element in the set, remove will return an error if the element is not in the set\")\n",
        "C = A.union(B)\n",
        "print(C)\n",
        "D = A.intersection(B)\n",
        "print(D)\n",
        "print(A.issubset(B))\n",
        "print(\"A and B are not disjoint sets\")\n",
        "print(A.union(B))\n",
        "print(B.union(A))\n",
        "print(B.symmetric_difference(A))\n",
        "del A\n",
        "del B\n",
        "del IT_companies\n",
        "ageSet = set(age)\n",
        "print(len(ageSet))\n",
        "print(len(age))\n"
      ],
      "metadata": {
        "colab": {
          "base_uri": "https://localhost:8080/"
        },
        "id": "NfKr_DO-U4mY",
        "outputId": "65408570-5c9e-41a9-9b28-7e6302b838f4"
      },
      "execution_count": 3,
      "outputs": [
        {
          "output_type": "stream",
          "name": "stdout",
          "text": [
            "7\n",
            "{'Facebook', 'Amazon', 'IBM', 'Oracle', 'Google', 'Twitter', 'Apple', 'Microsoft'}\n",
            "{'Apple', 'Oracle', 'Microsoft', 'Facebook', 'Amazon', 'X', 'Nvidia', 'IBM', 'Taiwan Semi', 'Google', 'Twitter'}\n",
            "{'Apple', 'Oracle', 'Microsoft', 'Facebook', 'Amazon', 'X', 'Nvidia', 'IBM', 'Taiwan Semi', 'Google'}\n",
            "The difference between remove and discard is that discard can handle not having the \n",
            "specified element in the set, remove will return an error if the element is not in the set\n",
            "{19, 20, 22, 24, 25, 26, 27, 28}\n",
            "{19, 20, 22, 24, 25, 26}\n",
            "True\n",
            "A and B are not disjoint sets\n",
            "{19, 20, 22, 24, 25, 26, 27, 28}\n",
            "{19, 20, 22, 24, 25, 26, 27, 28}\n",
            "{27, 28}\n",
            "5\n",
            "8\n"
          ]
        }
      ]
    }
  ]
}